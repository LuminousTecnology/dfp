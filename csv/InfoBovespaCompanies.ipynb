{
  "nbformat": 4,
  "nbformat_minor": 0,
  "metadata": {
    "colab": {
      "name": "InfoBovespaCompanies.ipynb",
      "provenance": [],
      "authorship_tag": "ABX9TyN411RmX5IaVyj7uSBMLXuH",
      "include_colab_link": true
    },
    "kernelspec": {
      "name": "python3",
      "display_name": "Python 3"
    }
  },
  "cells": [
    {
      "cell_type": "markdown",
      "metadata": {
        "id": "view-in-github",
        "colab_type": "text"
      },
      "source": [
        "<a href=\"https://colab.research.google.com/github/TitanTensei/dfp/blob/master/csv/InfoBovespaCompanies.ipynb\" target=\"_parent\"><img src=\"https://colab.research.google.com/assets/colab-badge.svg\" alt=\"Open In Colab\"/></a>"
      ]
    },
    {
      "cell_type": "code",
      "metadata": {
        "id": "oq9DTbe8dYIt"
      },
      "source": [
        "import pandas as pd"
      ],
      "execution_count": 1,
      "outputs": []
    },
    {
      "cell_type": "code",
      "metadata": {
        "id": "N-ognMF6B-U7"
      },
      "source": [
        "# importa 'InfoBovespaCompanies.csv' do link\r\n",
        "url_csv = 'https://github.com/msperlin/GetITRData_auxiliary/raw/master/InfoBovespaCompanies.csv'\r\n",
        "infobovespacompanies = pd.read_csv(url_csv)\r\n",
        "\r\n",
        "###############################################################################\r\n",
        "# separa colunas\r\n",
        "infobovespacompanies = infobovespacompanies[['name.company' , 'id.company' , 'cnpj' , 'situation' , 'main.sector' , \r\n",
        "                                             'sub.sector' , 'segment' , 'tickers' , 'id.file' , 'version.file' , \r\n",
        "                                             'dl.link' , 'id.date', 'id.type', 'type.fin.report' ]]\r\n",
        "\r\n",
        "###############################################################################\r\n",
        "# renomear colunas\r\n",
        "infobovespacompanies = infobovespacompanies.rename({'name.company': 'name_company' , \r\n",
        "                                                    'id.company': 'id_company' ,\r\n",
        "                                                    'main.sector': 'main_sector' ,\r\n",
        "                                                    'sub.sector': 'sub_sector' ,\r\n",
        "                                                    'id.file': 'id_file' ,\r\n",
        "                                                    'version.file': 'version_file' ,\r\n",
        "                                                    'dl.link': 'dl_link' ,\r\n",
        "                                                    'id.date': 'id_date' ,\r\n",
        "                                                    'id.type': 'id_type' ,\r\n",
        "                                                    'type.fin.report': 'type_fin_report'}, axis=1)\r\n",
        "\r\n",
        "###############################################################################\r\n"
      ],
      "execution_count": 16,
      "outputs": []
    },
    {
      "cell_type": "code",
      "metadata": {
        "id": "IP0zJRaZt1nu"
      },
      "source": [
        "# inputs de busca\r\n",
        "lista = {'BANCO DO BRASIL S.A.'}\r\n",
        "lista_busca = {'dfp'}\r\n",
        "data_inicial = '2019-12-31'\r\n",
        "data_final = '2019-12-31'\r\n",
        "\r\n",
        "###############################################################################\r\n",
        "# cria busca\r\n",
        "name_company = infobovespacompanies[(infobovespacompanies[infobovespacompanies.columns[0]].isin(lista)) & (infobovespacompanies.id_date >= data_inicial) & (infobovespacompanies.id_date <= data_final)]\r\n",
        "\r\n",
        "###############################################################################\r\n",
        "# crica link download\r\n",
        "dl_link = name_company[['name_company' , 'id_company' , 'dl_link' , 'type_fin_report']]\r\n",
        "dl_link = dl_link[(dl_link[dl_link.columns[3]].isin(lista_busca))]\r\n",
        "download = dl_link[['dl_link']] "
      ],
      "execution_count": 43,
      "outputs": []
    },
    {
      "cell_type": "code",
      "metadata": {
        "id": "lMxxCwNKFLBn"
      },
      "source": [
        ""
      ],
      "execution_count": 37,
      "outputs": []
    },
    {
      "cell_type": "code",
      "metadata": {
        "id": "8ZNQTVl6EdXn",
        "colab": {
          "base_uri": "https://localhost:8080/",
          "height": 76
        },
        "outputId": "f2859896-af7e-4150-af7d-ee9a781a5f2d"
      },
      "source": [
        "download"
      ],
      "execution_count": 47,
      "outputs": [
        {
          "output_type": "execute_result",
          "data": {
            "text/html": [
              "<div>\n",
              "<style scoped>\n",
              "    .dataframe tbody tr th:only-of-type {\n",
              "        vertical-align: middle;\n",
              "    }\n",
              "\n",
              "    .dataframe tbody tr th {\n",
              "        vertical-align: top;\n",
              "    }\n",
              "\n",
              "    .dataframe thead th {\n",
              "        text-align: right;\n",
              "    }\n",
              "</style>\n",
              "<table border=\"1\" class=\"dataframe\">\n",
              "  <thead>\n",
              "    <tr style=\"text-align: right;\">\n",
              "      <th></th>\n",
              "      <th>dl_link</th>\n",
              "    </tr>\n",
              "  </thead>\n",
              "  <tbody>\n",
              "    <tr>\n",
              "      <th>27</th>\n",
              "      <td>http://www.rad.cvm.gov.br/enetconsulta/frmDown...</td>\n",
              "    </tr>\n",
              "  </tbody>\n",
              "</table>\n",
              "</div>"
            ],
            "text/plain": [
              "                                              dl_link\n",
              "27  http://www.rad.cvm.gov.br/enetconsulta/frmDown..."
            ]
          },
          "metadata": {
            "tags": []
          },
          "execution_count": 47
        }
      ]
    }
  ]
}