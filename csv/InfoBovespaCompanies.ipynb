{
  "nbformat": 4,
  "nbformat_minor": 0,
  "metadata": {
    "colab": {
      "name": "InfoBovespaCompanies.ipynb",
      "provenance": [],
      "authorship_tag": "ABX9TyOIv0VnaNgAJ+pR6muh3gaf",
      "include_colab_link": true
    },
    "kernelspec": {
      "name": "python3",
      "display_name": "Python 3"
    }
  },
  "cells": [
    {
      "cell_type": "markdown",
      "metadata": {
        "id": "view-in-github",
        "colab_type": "text"
      },
      "source": [
        "<a href=\"https://colab.research.google.com/github/TitanTensei/dfp/blob/master/csv/InfoBovespaCompanies.ipynb\" target=\"_parent\"><img src=\"https://colab.research.google.com/assets/colab-badge.svg\" alt=\"Open In Colab\"/></a>"
      ]
    },
    {
      "cell_type": "code",
      "metadata": {
        "id": "oq9DTbe8dYIt"
      },
      "source": [
        "import pandas as pd\r\n",
        "from google.colab.data_table import DataTable"
      ],
      "execution_count": 50,
      "outputs": []
    },
    {
      "cell_type": "code",
      "metadata": {
        "id": "N-ognMF6B-U7"
      },
      "source": [
        "# importa 'InfoBovespaCompanies.csv' do link\r\n",
        "url_csv = 'https://github.com/msperlin/GetITRData_auxiliary/raw/master/InfoBovespaCompanies.csv'\r\n",
        "infobovespacompanies = pd.read_csv(url_csv)\r\n",
        "\r\n",
        "###############################################################################\r\n",
        "# separa colunas\r\n",
        "infobovespacompanies = infobovespacompanies[['name.company' , 'id.company' , 'cnpj' , 'situation' , 'main.sector' , \r\n",
        "                                             'sub.sector' , 'segment' , 'tickers' , 'id.file' , 'version.file' , \r\n",
        "                                             'dl.link' , 'id.date', 'id.type', 'type.fin.report' ]]\r\n",
        "\r\n",
        "###############################################################################\r\n",
        "# renomear colunas\r\n",
        "infobovespacompanies = infobovespacompanies.rename({'name.company': 'name_company' , \r\n",
        "                                                    'id.company': 'id_company' ,\r\n",
        "                                                    'main.sector': 'main_sector' ,\r\n",
        "                                                    'sub.sector': 'sub_sector' ,\r\n",
        "                                                    'id.file': 'id_file' ,\r\n",
        "                                                    'version.file': 'version_file' ,\r\n",
        "                                                    'dl.link': 'dl_link' ,\r\n",
        "                                                    'id.date': 'id_date' ,\r\n",
        "                                                    'id.type': 'id_type' ,\r\n",
        "                                                    'type.fin.report': 'type_fin_report'}, axis=1)\r\n",
        "\r\n",
        "###############################################################################\r\n"
      ],
      "execution_count": 16,
      "outputs": []
    },
    {
      "cell_type": "code",
      "metadata": {
        "id": "IP0zJRaZt1nu"
      },
      "source": [
        "# inputs de busca\r\n",
        "lista = {'BANCO DO BRASIL S.A.'}\r\n",
        "lista_busca = {'dfp'}\r\n",
        "data_inicial = '2017-12-31'\r\n",
        "data_final = '2019-12-31'\r\n",
        "\r\n",
        "###############################################################################\r\n",
        "# cria busca\r\n",
        "name_company = infobovespacompanies[(infobovespacompanies[infobovespacompanies.columns[0]].isin(lista)) & (infobovespacompanies.id_date >= data_inicial) & (infobovespacompanies.id_date <= data_final)]\r\n",
        "\r\n",
        "###############################################################################\r\n",
        "# crica link download\r\n",
        "dl_link = name_company[['name_company' , 'id_company' , 'dl_link' ,'version_file' , 'id_date' , 'type_fin_report']]\r\n",
        "dl_link = dl_link[(dl_link[dl_link.columns[5]].isin(lista_busca))]"
      ],
      "execution_count": 58,
      "outputs": []
    },
    {
      "cell_type": "code",
      "metadata": {
        "id": "lMxxCwNKFLBn"
      },
      "source": [
        ""
      ],
      "execution_count": 37,
      "outputs": []
    },
    {
      "cell_type": "code",
      "metadata": {
        "id": "8ZNQTVl6EdXn",
        "colab": {
          "base_uri": "https://localhost:8080/",
          "height": 186
        },
        "outputId": "de453294-8a90-41b3-ef42-2b5727aeae64"
      },
      "source": [
        "DataTable(dl_link)"
      ],
      "execution_count": 59,
      "outputs": [
        {
          "output_type": "execute_result",
          "data": {
            "application/vnd.google.colaboratory.module+javascript": "\n      import \"https://ssl.gstatic.com/colaboratory/data_table/a6224c040fa35dcf/data_table.js\";\n\n      window.createDataTable({\n        data: [[{\n            'v': 23,\n            'f': \"23\",\n        },\n\"BANCO DO BRASIL S.A.\",\n{\n            'v': 1023,\n            'f': \"1023\",\n        },\n\"http://www.rad.cvm.gov.br/enetconsulta/frmDownloadDocumento.aspx?CodigoInstituicao=2&NumeroSequencialDocumento=71664\",\n{\n            'v': 1.0,\n            'f': \"1.0\",\n        },\n\"2017-12-31\",\n\"dfp\"],\n [{\n            'v': 24,\n            'f': \"24\",\n        },\n\"BANCO DO BRASIL S.A.\",\n{\n            'v': 1023,\n            'f': \"1023\",\n        },\n\"http://www.rad.cvm.gov.br/enetconsulta/frmDownloadDocumento.aspx?CodigoInstituicao=2&NumeroSequencialDocumento=72574\",\n{\n            'v': 2.0,\n            'f': \"2.0\",\n        },\n\"2017-12-31\",\n\"dfp\"],\n [{\n            'v': 25,\n            'f': \"25\",\n        },\n\"BANCO DO BRASIL S.A.\",\n{\n            'v': 1023,\n            'f': \"1023\",\n        },\n\"http://www.rad.cvm.gov.br/enetconsulta/frmDownloadDocumento.aspx?CodigoInstituicao=2&NumeroSequencialDocumento=80655\",\n{\n            'v': 1.0,\n            'f': \"1.0\",\n        },\n\"2018-12-31\",\n\"dfp\"],\n [{\n            'v': 26,\n            'f': \"26\",\n        },\n\"BANCO DO BRASIL S.A.\",\n{\n            'v': 1023,\n            'f': \"1023\",\n        },\n\"http://www.rad.cvm.gov.br/enetconsulta/frmDownloadDocumento.aspx?CodigoInstituicao=2&NumeroSequencialDocumento=81425\",\n{\n            'v': 2.0,\n            'f': \"2.0\",\n        },\n\"2018-12-31\",\n\"dfp\"],\n [{\n            'v': 27,\n            'f': \"27\",\n        },\n\"BANCO DO BRASIL S.A.\",\n{\n            'v': 1023,\n            'f': \"1023\",\n        },\n\"http://www.rad.cvm.gov.br/enetconsulta/frmDownloadDocumento.aspx?CodigoInstituicao=2&NumeroSequencialDocumento=90922\",\n{\n            'v': 1.0,\n            'f': \"1.0\",\n        },\n\"2019-12-31\",\n\"dfp\"]],\n        columns: [[\"number\", \"index\"], [\"string\", \"name_company\"], [\"number\", \"id_company\"], [\"string\", \"dl_link\"], [\"number\", \"version_file\"], [\"string\", \"id_date\"], [\"string\", \"type_fin_report\"]],\n        columnOptions: [{\"width\": \"1px\", \"className\": \"index_column\"}],\n        rowsPerPage: 25,\n        helpUrl: \"https://colab.research.google.com/notebooks/data_table.ipynb\",\n        suppressOutputScrolling: true,\n        minimumWidth: undefined,\n      });\n    ",
            "text/plain": [
              "<google.colab.data_table.DataTable object>"
            ],
            "text/html": [
              "<div>\n",
              "<style scoped>\n",
              "    .dataframe tbody tr th:only-of-type {\n",
              "        vertical-align: middle;\n",
              "    }\n",
              "\n",
              "    .dataframe tbody tr th {\n",
              "        vertical-align: top;\n",
              "    }\n",
              "\n",
              "    .dataframe thead th {\n",
              "        text-align: right;\n",
              "    }\n",
              "</style>\n",
              "<table border=\"1\" class=\"dataframe\">\n",
              "  <thead>\n",
              "    <tr style=\"text-align: right;\">\n",
              "      <th></th>\n",
              "      <th>name_company</th>\n",
              "      <th>id_company</th>\n",
              "      <th>dl_link</th>\n",
              "      <th>version_file</th>\n",
              "      <th>id_date</th>\n",
              "      <th>type_fin_report</th>\n",
              "    </tr>\n",
              "  </thead>\n",
              "  <tbody>\n",
              "    <tr>\n",
              "      <th>23</th>\n",
              "      <td>BANCO DO BRASIL S.A.</td>\n",
              "      <td>1023</td>\n",
              "      <td>http://www.rad.cvm.gov.br/enetconsulta/frmDown...</td>\n",
              "      <td>1.0</td>\n",
              "      <td>2017-12-31</td>\n",
              "      <td>dfp</td>\n",
              "    </tr>\n",
              "    <tr>\n",
              "      <th>24</th>\n",
              "      <td>BANCO DO BRASIL S.A.</td>\n",
              "      <td>1023</td>\n",
              "      <td>http://www.rad.cvm.gov.br/enetconsulta/frmDown...</td>\n",
              "      <td>2.0</td>\n",
              "      <td>2017-12-31</td>\n",
              "      <td>dfp</td>\n",
              "    </tr>\n",
              "    <tr>\n",
              "      <th>25</th>\n",
              "      <td>BANCO DO BRASIL S.A.</td>\n",
              "      <td>1023</td>\n",
              "      <td>http://www.rad.cvm.gov.br/enetconsulta/frmDown...</td>\n",
              "      <td>1.0</td>\n",
              "      <td>2018-12-31</td>\n",
              "      <td>dfp</td>\n",
              "    </tr>\n",
              "    <tr>\n",
              "      <th>26</th>\n",
              "      <td>BANCO DO BRASIL S.A.</td>\n",
              "      <td>1023</td>\n",
              "      <td>http://www.rad.cvm.gov.br/enetconsulta/frmDown...</td>\n",
              "      <td>2.0</td>\n",
              "      <td>2018-12-31</td>\n",
              "      <td>dfp</td>\n",
              "    </tr>\n",
              "    <tr>\n",
              "      <th>27</th>\n",
              "      <td>BANCO DO BRASIL S.A.</td>\n",
              "      <td>1023</td>\n",
              "      <td>http://www.rad.cvm.gov.br/enetconsulta/frmDown...</td>\n",
              "      <td>1.0</td>\n",
              "      <td>2019-12-31</td>\n",
              "      <td>dfp</td>\n",
              "    </tr>\n",
              "  </tbody>\n",
              "</table>\n",
              "</div>"
            ]
          },
          "metadata": {
            "tags": []
          },
          "execution_count": 59
        }
      ]
    }
  ]
}