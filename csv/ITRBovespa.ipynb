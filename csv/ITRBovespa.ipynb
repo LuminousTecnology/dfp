{
  "nbformat": 4,
  "nbformat_minor": 0,
  "metadata": {
    "colab": {
      "name": "ITRBovespa.ipynb",
      "provenance": [],
      "collapsed_sections": [
        "UEyAduBeT9nP",
        "sPGyO2OjVOtD",
        "qk0aHEyFadJr"
      ],
      "toc_visible": true,
      "mount_file_id": "https://github.com/TitanTensei/dfp/blob/master/csv/ITRBovespa.ipynb",
      "authorship_tag": "ABX9TyPyKCqd7+Ob/xGxeJE5dYyf",
      "include_colab_link": true
    },
    "kernelspec": {
      "name": "python3",
      "display_name": "Python 3"
    },
    "language_info": {
      "name": "python"
    }
  },
  "cells": [
    {
      "cell_type": "markdown",
      "metadata": {
        "id": "view-in-github",
        "colab_type": "text"
      },
      "source": [
        "<a href=\"https://colab.research.google.com/github/TitanTensei/dfp/blob/master/csv/ITRBovespa.ipynb\" target=\"_parent\"><img src=\"https://colab.research.google.com/assets/colab-badge.svg\" alt=\"Open In Colab\"/></a>"
      ]
    },
    {
      "cell_type": "code",
      "metadata": {
        "id": "MZOVsoLCRVs_",
        "colab": {
          "base_uri": "https://localhost:8080/"
        },
        "outputId": "e60fd198-c2e2-4ce9-faaf-7e1f2957ae10"
      },
      "source": [
        "import pandas as pd\n",
        "from google.colab.data_table import DataTable\n",
        "!pip3 install wget"
      ],
      "execution_count": 1,
      "outputs": [
        {
          "output_type": "stream",
          "text": [
            "Collecting wget\n",
            "  Downloading https://files.pythonhosted.org/packages/47/6a/62e288da7bcda82b935ff0c6cfe542970f04e29c756b0e147251b2fb251f/wget-3.2.zip\n",
            "Building wheels for collected packages: wget\n",
            "  Building wheel for wget (setup.py) ... \u001b[?25l\u001b[?25hdone\n",
            "  Created wheel for wget: filename=wget-3.2-cp37-none-any.whl size=9681 sha256=39304461e86e21e48acd17c3b99aefaf0210d6c4819dec41385ab6d01f5f2da7\n",
            "  Stored in directory: /root/.cache/pip/wheels/40/15/30/7d8f7cea2902b4db79e3fea550d7d7b85ecb27ef992b618f3f\n",
            "Successfully built wget\n",
            "Installing collected packages: wget\n",
            "Successfully installed wget-3.2\n"
          ],
          "name": "stdout"
        }
      ]
    },
    {
      "cell_type": "markdown",
      "metadata": {
        "id": "UEyAduBeT9nP"
      },
      "source": [
        "# 1 Downlaod links da CVM"
      ]
    },
    {
      "cell_type": "code",
      "metadata": {
        "id": "fHmNyXWbUCZn"
      },
      "source": [
        "# download das ITR da pagina da CVM\n",
        "import wget\n",
        "import os\n",
        "\n",
        "# 2011 = 'http://dados.cvm.gov.br/dados/CIA_ABERTA/DOC/ITR/DADOS/itr_cia_aberta_2011.zip'\n",
        "# 2012 = 'http://dados.cvm.gov.br/dados/CIA_ABERTA/DOC/ITR/DADOS/itr_cia_aberta_2012.zip'\n",
        "# 2013 = 'http://dados.cvm.gov.br/dados/CIA_ABERTA/DOC/ITR/DADOS/itr_cia_aberta_2013.zip'\n",
        "# 2014 = 'http://dados.cvm.gov.br/dados/CIA_ABERTA/DOC/ITR/DADOS/itr_cia_aberta_2014.zip'\n",
        "# 2015 = 'http://dados.cvm.gov.br/dados/CIA_ABERTA/DOC/ITR/DADOS/itr_cia_aberta_2015.zip'\n",
        "# 2016 = 'http://dados.cvm.gov.br/dados/CIA_ABERTA/DOC/ITR/DADOS/itr_cia_aberta_2016.zip'\n",
        "# 2017 = 'http://dados.cvm.gov.br/dados/CIA_ABERTA/DOC/ITR/DADOS/itr_cia_aberta_2017.zip'\n",
        "# 2018 = 'http://dados.cvm.gov.br/dados/CIA_ABERTA/DOC/ITR/DADOS/itr_cia_aberta_2018.zip'\n",
        "# 2019 = 'http://dados.cvm.gov.br/dados/CIA_ABERTA/DOC/ITR/DADOS/itr_cia_aberta_2019.zip'\n",
        "# 2020 = 'http://dados.cvm.gov.br/dados/CIA_ABERTA/DOC/ITR/DADOS/itr_cia_aberta_2020.zip'\n",
        "# 2021 = 'http://dados.cvm.gov.br/dados/CIA_ABERTA/DOC/ITR/DADOS/itr_cia_aberta_2021.zip'\n",
        "\n",
        "\n",
        "urls = ['http://dados.cvm.gov.br/dados/CIA_ABERTA/DOC/ITR/DADOS/itr_cia_aberta_2011.zip',\n",
        "        'http://dados.cvm.gov.br/dados/CIA_ABERTA/DOC/ITR/DADOS/itr_cia_aberta_2012.zip',\n",
        "        'http://dados.cvm.gov.br/dados/CIA_ABERTA/DOC/ITR/DADOS/itr_cia_aberta_2013.zip',\n",
        "        'http://dados.cvm.gov.br/dados/CIA_ABERTA/DOC/ITR/DADOS/itr_cia_aberta_2014.zip', \n",
        "        'http://dados.cvm.gov.br/dados/CIA_ABERTA/DOC/ITR/DADOS/itr_cia_aberta_2015.zip',\n",
        "        'http://dados.cvm.gov.br/dados/CIA_ABERTA/DOC/ITR/DADOS/itr_cia_aberta_2016.zip',\n",
        "        'http://dados.cvm.gov.br/dados/CIA_ABERTA/DOC/ITR/DADOS/itr_cia_aberta_2017.zip',\n",
        "        'http://dados.cvm.gov.br/dados/CIA_ABERTA/DOC/ITR/DADOS/itr_cia_aberta_2018.zip',\n",
        "        'http://dados.cvm.gov.br/dados/CIA_ABERTA/DOC/ITR/DADOS/itr_cia_aberta_2019.zip',\n",
        "        'http://dados.cvm.gov.br/dados/CIA_ABERTA/DOC/ITR/DADOS/itr_cia_aberta_2020.zip',\n",
        "        'http://dados.cvm.gov.br/dados/CIA_ABERTA/DOC/ITR/DADOS/itr_cia_aberta_2021.zip']\n",
        "\n",
        "path = '/content/drive/MyDrive/Bovespa_ITR/ZIP'\n",
        "\n",
        "for url in urls:\n",
        "    filename = path + '/' + os.path.basename(url) # get the full path of the file\n",
        "    if os.path.exists(filename):\n",
        "        os.remove(filename) # if exist, remove it directly\n",
        "    wget.download(url, out=filename)"
      ],
      "execution_count": null,
      "outputs": []
    },
    {
      "cell_type": "markdown",
      "metadata": {
        "id": "sPGyO2OjVOtD"
      },
      "source": [
        "# 2 Unzip files"
      ]
    },
    {
      "cell_type": "code",
      "metadata": {
        "id": "ekN0AItCWAsT"
      },
      "source": [
        "# Unzip file\n",
        "import os\n",
        "import shutil\n",
        "import zipfile\n",
        "\n",
        "# Import os arquivos zip para dezipar\n",
        "zip_filepath_2011 ='/content/drive/MyDrive/Bovespa_ITR/ZIP/itr_cia_aberta_2011.zip'\n",
        "zip_filepath_2012 ='/content/drive/MyDrive/Bovespa_ITR/ZIP/itr_cia_aberta_2012.zip'\n",
        "zip_filepath_2013 ='/content/drive/MyDrive/Bovespa_ITR/ZIP/itr_cia_aberta_2013.zip'\n",
        "zip_filepath_2014 ='/content/drive/MyDrive/Bovespa_ITR/ZIP/itr_cia_aberta_2014.zip'\n",
        "zip_filepath_2015 ='/content/drive/MyDrive/Bovespa_ITR/ZIP/itr_cia_aberta_2015.zip'\n",
        "zip_filepath_2016 ='/content/drive/MyDrive/Bovespa_ITR/ZIP/itr_cia_aberta_2016.zip'\n",
        "zip_filepath_2017 ='/content/drive/MyDrive/Bovespa_ITR/ZIP/itr_cia_aberta_2017.zip'\n",
        "zip_filepath_2018 ='/content/drive/MyDrive/Bovespa_ITR/ZIP/itr_cia_aberta_2018.zip'\n",
        "zip_filepath_2019 ='/content/drive/MyDrive/Bovespa_ITR/ZIP/itr_cia_aberta_2019.zip'\n",
        "zip_filepath_2020 ='/content/drive/MyDrive/Bovespa_ITR/ZIP/itr_cia_aberta_2020.zip'\n",
        "zip_filepath_2021 ='/content/drive/MyDrive/Bovespa_ITR/ZIP/itr_cia_aberta_2021.zip'"
      ],
      "execution_count": null,
      "outputs": []
    },
    {
      "cell_type": "code",
      "metadata": {
        "id": "sr8KnHtcXIHS"
      },
      "source": [
        "# Unzip BPA\n",
        "target_dir_BPA ='/content/drive/MyDrive/Bovespa_ITR/BPA'\n",
        "\n",
        "\n",
        "with zipfile.ZipFile(zip_filepath_2011) as z:\n",
        "    with z.open('itr_cia_aberta_BPA_con_2011.csv') as zf, open(os.path.join(target_dir_BPA, os.path.basename('itr_cia_aberta_BPA_con_2011.csv')), 'wb') as f:\n",
        "        shutil.copyfileobj(zf, f)\n",
        "\n",
        "with zipfile.ZipFile(zip_filepath_2012) as z:\n",
        "    with z.open('itr_cia_aberta_BPA_con_2012.csv') as zf, open(os.path.join(target_dir_BPA, os.path.basename('itr_cia_aberta_BPA_con_2012.csv')), 'wb') as f:\n",
        "        shutil.copyfileobj(zf, f)\n",
        "\n",
        "with zipfile.ZipFile(zip_filepath_2013) as z:\n",
        "    with z.open('itr_cia_aberta_BPA_con_2013.csv') as zf, open(os.path.join(target_dir_BPA, os.path.basename('itr_cia_aberta_BPA_con_2013.csv')), 'wb') as f:\n",
        "        shutil.copyfileobj(zf, f)\n",
        "\n",
        "with zipfile.ZipFile(zip_filepath_2014) as z:\n",
        "    with z.open('itr_cia_aberta_BPA_con_2014.csv') as zf, open(os.path.join(target_dir_BPA, os.path.basename('itr_cia_aberta_BPA_con_2014.csv')), 'wb') as f:\n",
        "        shutil.copyfileobj(zf, f)\n",
        "\n",
        "with zipfile.ZipFile(zip_filepath_2015) as z:\n",
        "    with z.open('itr_cia_aberta_BPA_con_2015.csv') as zf, open(os.path.join(target_dir_BPA, os.path.basename('itr_cia_aberta_BPA_con_2015.csv')), 'wb') as f:\n",
        "        shutil.copyfileobj(zf, f)\n",
        "\n",
        "with zipfile.ZipFile(zip_filepath_2016) as z:\n",
        "    with z.open('itr_cia_aberta_BPA_con_2016.csv') as zf, open(os.path.join(target_dir_BPA, os.path.basename('itr_cia_aberta_BPA_con_2016.csv')), 'wb') as f:\n",
        "        shutil.copyfileobj(zf, f)\n",
        "\n",
        "with zipfile.ZipFile(zip_filepath_2017) as z:\n",
        "    with z.open('itr_cia_aberta_BPA_con_2017.csv') as zf, open(os.path.join(target_dir_BPA, os.path.basename('itr_cia_aberta_BPA_con_2017.csv')), 'wb') as f:\n",
        "        shutil.copyfileobj(zf, f)\n",
        "\n",
        "with zipfile.ZipFile(zip_filepath_2018) as z:\n",
        "    with z.open('itr_cia_aberta_BPA_con_2018.csv') as zf, open(os.path.join(target_dir_BPA, os.path.basename('itr_cia_aberta_BPA_con_2018.csv')), 'wb') as f:\n",
        "        shutil.copyfileobj(zf, f)\n",
        "\n",
        "with zipfile.ZipFile(zip_filepath_2019) as z:\n",
        "    with z.open('itr_cia_aberta_BPA_con_2019.csv') as zf, open(os.path.join(target_dir_BPA, os.path.basename('itr_cia_aberta_BPA_con_2019.csv')), 'wb') as f:\n",
        "        shutil.copyfileobj(zf, f)\n",
        "\n",
        "with zipfile.ZipFile(zip_filepath_2020) as z:\n",
        "    with z.open('itr_cia_aberta_BPA_con_2020.csv') as zf, open(os.path.join(target_dir_BPA, os.path.basename('itr_cia_aberta_BPA_con_2020.csv')), 'wb') as f:\n",
        "        shutil.copyfileobj(zf, f)\n",
        "\n",
        "with zipfile.ZipFile(zip_filepath_2021) as z:\n",
        "    with z.open('itr_cia_aberta_BPA_con_2021.csv') as zf, open(os.path.join(target_dir_BPA, os.path.basename('itr_cia_aberta_BPA_con_2021.csv')), 'wb') as f:\n",
        "        shutil.copyfileobj(zf, f)"
      ],
      "execution_count": null,
      "outputs": []
    },
    {
      "cell_type": "code",
      "metadata": {
        "id": "monOerxTX2fX"
      },
      "source": [
        "# Unzip BPP\n",
        "target_dir_BPP ='/content/drive/MyDrive/Bovespa_ITR/BPP'\n",
        "\n",
        "\n",
        "with zipfile.ZipFile(zip_filepath_2011) as z:\n",
        "    with z.open('itr_cia_aberta_BPP_con_2011.csv') as zf, open(os.path.join(target_dir_BPP, os.path.basename('itr_cia_aberta_BPP_con_2011.csv')), 'wb') as f:\n",
        "        shutil.copyfileobj(zf, f)\n",
        "\n",
        "with zipfile.ZipFile(zip_filepath_2012) as z:\n",
        "    with z.open('itr_cia_aberta_BPP_con_2012.csv') as zf, open(os.path.join(target_dir_BPP, os.path.basename('itr_cia_aberta_BPP_con_2012.csv')), 'wb') as f:\n",
        "        shutil.copyfileobj(zf, f)\n",
        "\n",
        "with zipfile.ZipFile(zip_filepath_2013) as z:\n",
        "    with z.open('itr_cia_aberta_BPP_con_2013.csv') as zf, open(os.path.join(target_dir_BPP, os.path.basename('itr_cia_aberta_BPP_con_2013.csv')), 'wb') as f:\n",
        "        shutil.copyfileobj(zf, f)\n",
        "\n",
        "with zipfile.ZipFile(zip_filepath_2014) as z:\n",
        "    with z.open('itr_cia_aberta_BPP_con_2014.csv') as zf, open(os.path.join(target_dir_BPP, os.path.basename('itr_cia_aberta_BPP_con_2014.csv')), 'wb') as f:\n",
        "        shutil.copyfileobj(zf, f)\n",
        "\n",
        "with zipfile.ZipFile(zip_filepath_2015) as z:\n",
        "    with z.open('itr_cia_aberta_BPP_con_2015.csv') as zf, open(os.path.join(target_dir_BPP, os.path.basename('itr_cia_aberta_BPP_con_2015.csv')), 'wb') as f:\n",
        "        shutil.copyfileobj(zf, f)\n",
        "\n",
        "with zipfile.ZipFile(zip_filepath_2016) as z:\n",
        "    with z.open('itr_cia_aberta_BPP_con_2016.csv') as zf, open(os.path.join(target_dir_BPP, os.path.basename('itr_cia_aberta_BPP_con_2016.csv')), 'wb') as f:\n",
        "        shutil.copyfileobj(zf, f)\n",
        "\n",
        "with zipfile.ZipFile(zip_filepath_2017) as z:\n",
        "    with z.open('itr_cia_aberta_BPP_con_2017.csv') as zf, open(os.path.join(target_dir_BPP, os.path.basename('itr_cia_aberta_BPP_con_2017.csv')), 'wb') as f:\n",
        "        shutil.copyfileobj(zf, f)\n",
        "\n",
        "with zipfile.ZipFile(zip_filepath_2018) as z:\n",
        "    with z.open('itr_cia_aberta_BPP_con_2018.csv') as zf, open(os.path.join(target_dir_BPP, os.path.basename('itr_cia_aberta_BPP_con_2018.csv')), 'wb') as f:\n",
        "        shutil.copyfileobj(zf, f)\n",
        "\n",
        "with zipfile.ZipFile(zip_filepath_2019) as z:\n",
        "    with z.open('itr_cia_aberta_BPP_con_2019.csv') as zf, open(os.path.join(target_dir_BPP, os.path.basename('itr_cia_aberta_BPP_con_2019.csv')), 'wb') as f:\n",
        "        shutil.copyfileobj(zf, f)\n",
        "\n",
        "with zipfile.ZipFile(zip_filepath_2020) as z:\n",
        "    with z.open('itr_cia_aberta_BPP_con_2020.csv') as zf, open(os.path.join(target_dir_BPP, os.path.basename('itr_cia_aberta_BPP_con_2020.csv')), 'wb') as f:\n",
        "        shutil.copyfileobj(zf, f)\n",
        "\n",
        "with zipfile.ZipFile(zip_filepath_2021) as z:\n",
        "    with z.open('itr_cia_aberta_BPP_con_2021.csv') as zf, open(os.path.join(target_dir_BPP, os.path.basename('itr_cia_aberta_BPP_con_2021.csv')), 'wb') as f:\n",
        "        shutil.copyfileobj(zf, f)"
      ],
      "execution_count": null,
      "outputs": []
    },
    {
      "cell_type": "code",
      "metadata": {
        "id": "D0Toz__tYnic"
      },
      "source": [
        "# Unzip DFC\n",
        "target_dir_DFC ='/content/drive/MyDrive/Bovespa_ITR/DFC'\n",
        "\n",
        "with zipfile.ZipFile(zip_filepath_2011) as z:\n",
        "    with z.open('itr_cia_aberta_DFC_MI_con_2011.csv') as zf, open(os.path.join(target_dir_DFC, os.path.basename('itr_cia_aberta_DFC_MI_con_2011.csv')), 'wb') as f:\n",
        "        shutil.copyfileobj(zf, f)\n",
        "\n",
        "with zipfile.ZipFile(zip_filepath_2012) as z:\n",
        "    with z.open('itr_cia_aberta_DFC_MI_con_2012.csv') as zf, open(os.path.join(target_dir_DFC, os.path.basename('itr_cia_aberta_DFC_MI_con_2012.csv')), 'wb') as f:\n",
        "        shutil.copyfileobj(zf, f)\n",
        "\n",
        "with zipfile.ZipFile(zip_filepath_2013) as z:\n",
        "    with z.open('itr_cia_aberta_DFC_MI_con_2013.csv') as zf, open(os.path.join(target_dir_DFC, os.path.basename('itr_cia_aberta_DFC_MI_con_2013.csv')), 'wb') as f:\n",
        "        shutil.copyfileobj(zf, f)\n",
        "\n",
        "with zipfile.ZipFile(zip_filepath_2014) as z:\n",
        "    with z.open('itr_cia_aberta_DFC_MI_con_2014.csv') as zf, open(os.path.join(target_dir_DFC, os.path.basename('itr_cia_aberta_DFC_MI_con_2014.csv')), 'wb') as f:\n",
        "        shutil.copyfileobj(zf, f)\n",
        "\n",
        "with zipfile.ZipFile(zip_filepath_2015) as z:\n",
        "    with z.open('itr_cia_aberta_DFC_MI_con_2015.csv') as zf, open(os.path.join(target_dir_DFC, os.path.basename('itr_cia_aberta_DFC_MI_con_2015.csv')), 'wb') as f:\n",
        "        shutil.copyfileobj(zf, f)\n",
        "\n",
        "with zipfile.ZipFile(zip_filepath_2016) as z:\n",
        "    with z.open('itr_cia_aberta_DFC_MI_con_2016.csv') as zf, open(os.path.join(target_dir_DFC, os.path.basename('itr_cia_aberta_DFC_MI_con_2016.csv')), 'wb') as f:\n",
        "        shutil.copyfileobj(zf, f)\n",
        "\n",
        "with zipfile.ZipFile(zip_filepath_2017) as z:\n",
        "    with z.open('itr_cia_aberta_DFC_MI_con_2017.csv') as zf, open(os.path.join(target_dir_DFC, os.path.basename('itr_cia_aberta_DFC_MI_con_2017.csv')), 'wb') as f:\n",
        "        shutil.copyfileobj(zf, f)\n",
        "\n",
        "with zipfile.ZipFile(zip_filepath_2018) as z:\n",
        "    with z.open('itr_cia_aberta_DFC_MI_con_2018.csv') as zf, open(os.path.join(target_dir_DFC, os.path.basename('itr_cia_aberta_DFC_MI_con_2018.csv')), 'wb') as f:\n",
        "        shutil.copyfileobj(zf, f)\n",
        "\n",
        "with zipfile.ZipFile(zip_filepath_2019) as z:\n",
        "    with z.open('itr_cia_aberta_DFC_MI_con_2019.csv') as zf, open(os.path.join(target_dir_DFC, os.path.basename('itr_cia_aberta_DFC_MI_con_2019.csv')), 'wb') as f:\n",
        "        shutil.copyfileobj(zf, f)\n",
        "\n",
        "with zipfile.ZipFile(zip_filepath_2020) as z:\n",
        "    with z.open('itr_cia_aberta_DFC_MI_con_2020.csv') as zf, open(os.path.join(target_dir_DFC, os.path.basename('itr_cia_aberta_DFC_MI_con_2020.csv')), 'wb') as f:\n",
        "        shutil.copyfileobj(zf, f)\n",
        "\n",
        "with zipfile.ZipFile(zip_filepath_2021) as z:\n",
        "    with z.open('itr_cia_aberta_DFC_MI_con_2021.csv') as zf, open(os.path.join(target_dir_DFC, os.path.basename('itr_cia_aberta_DFC_MI_con_2021.csv')), 'wb') as f:\n",
        "        shutil.copyfileobj(zf, f)"
      ],
      "execution_count": null,
      "outputs": []
    },
    {
      "cell_type": "code",
      "metadata": {
        "id": "knoL_di6Z3Yg"
      },
      "source": [
        "# Unzip DRE\n",
        "target_dir_DRE ='/content/drive/MyDrive/Bovespa_ITR/DRE'\n",
        "\n",
        "\n",
        "with zipfile.ZipFile(zip_filepath_2011) as z:\n",
        "    with z.open('itr_cia_aberta_DRE_con_2011.csv') as zf, open(os.path.join(target_dir_DRE, os.path.basename('itr_cia_aberta_DRE_con_2011.csv')), 'wb') as f:\n",
        "        shutil.copyfileobj(zf, f)\n",
        "\n",
        "with zipfile.ZipFile(zip_filepath_2012) as z:\n",
        "    with z.open('itr_cia_aberta_DRE_con_2012.csv') as zf, open(os.path.join(target_dir_DRE, os.path.basename('itr_cia_aberta_DRE_con_2012.csv')), 'wb') as f:\n",
        "        shutil.copyfileobj(zf, f)\n",
        "\n",
        "with zipfile.ZipFile(zip_filepath_2013) as z:\n",
        "    with z.open('itr_cia_aberta_DRE_con_2013.csv') as zf, open(os.path.join(target_dir_DRE, os.path.basename('itr_cia_aberta_DRE_con_2013.csv')), 'wb') as f:\n",
        "        shutil.copyfileobj(zf, f)\n",
        "\n",
        "with zipfile.ZipFile(zip_filepath_2014) as z:\n",
        "    with z.open('itr_cia_aberta_DRE_con_2014.csv') as zf, open(os.path.join(target_dir_DRE, os.path.basename('itr_cia_aberta_DRE_con_2014.csv')), 'wb') as f:\n",
        "        shutil.copyfileobj(zf, f)\n",
        "\n",
        "with zipfile.ZipFile(zip_filepath_2015) as z:\n",
        "    with z.open('itr_cia_aberta_DRE_con_2015.csv') as zf, open(os.path.join(target_dir_DRE, os.path.basename('itr_cia_aberta_DRE_con_2015.csv')), 'wb') as f:\n",
        "        shutil.copyfileobj(zf, f)\n",
        "\n",
        "with zipfile.ZipFile(zip_filepath_2016) as z:\n",
        "    with z.open('itr_cia_aberta_DRE_con_2016.csv') as zf, open(os.path.join(target_dir_DRE, os.path.basename('itr_cia_aberta_DRE_con_2016.csv')), 'wb') as f:\n",
        "        shutil.copyfileobj(zf, f)\n",
        "\n",
        "with zipfile.ZipFile(zip_filepath_2017) as z:\n",
        "    with z.open('itr_cia_aberta_DRE_con_2017.csv') as zf, open(os.path.join(target_dir_DRE, os.path.basename('itr_cia_aberta_DRE_con_2017.csv')), 'wb') as f:\n",
        "        shutil.copyfileobj(zf, f)\n",
        "\n",
        "with zipfile.ZipFile(zip_filepath_2018) as z:\n",
        "    with z.open('itr_cia_aberta_DRE_con_2018.csv') as zf, open(os.path.join(target_dir_DRE, os.path.basename('itr_cia_aberta_DRE_con_2018.csv')), 'wb') as f:\n",
        "        shutil.copyfileobj(zf, f)\n",
        "\n",
        "with zipfile.ZipFile(zip_filepath_2019) as z:\n",
        "    with z.open('itr_cia_aberta_DRE_con_2019.csv') as zf, open(os.path.join(target_dir_DRE, os.path.basename('itr_cia_aberta_DRE_con_2019.csv')), 'wb') as f:\n",
        "        shutil.copyfileobj(zf, f)\n",
        "\n",
        "with zipfile.ZipFile(zip_filepath_2020) as z:\n",
        "    with z.open('itr_cia_aberta_DRE_con_2020.csv') as zf, open(os.path.join(target_dir_DRE, os.path.basename('itr_cia_aberta_DRE_con_2020.csv')), 'wb') as f:\n",
        "        shutil.copyfileobj(zf, f)\n",
        "\n",
        "with zipfile.ZipFile(zip_filepath_2021) as z:\n",
        "    with z.open('itr_cia_aberta_DRE_con_2021.csv') as zf, open(os.path.join(target_dir_DRE, os.path.basename('itr_cia_aberta_DRE_con_2021.csv')), 'wb') as f:\n",
        "        shutil.copyfileobj(zf, f)"
      ],
      "execution_count": null,
      "outputs": []
    },
    {
      "cell_type": "markdown",
      "metadata": {
        "id": "qk0aHEyFadJr"
      },
      "source": [
        "# DRE Escolhida Replace"
      ]
    },
    {
      "cell_type": "code",
      "metadata": {
        "id": "E_tRy8x6afxA"
      },
      "source": [
        "replace_value_bpa = {'ativo total' : 'ativo_total' ,\n",
        "                      'ativo circulante' : 'ativo_circ' , \n",
        "                      'caixa e depositos bancarios' : 'caixa_equival' , \n",
        "                      'caixa e disponibilidade em bancos' : 'caixa_equival' , \n",
        "                      'caixa e disponibilidades em bancos' : 'caixa_equival' , \n",
        "                      'caixa e equivalentes de caixa' : 'caixa_equival' , \n",
        "                      'disponibilidades' : 'caixa_equival' , \n",
        "                      'disponibilidades e reservas no banco central do brasil' : 'caixa_equival' , \n",
        "                      'disponibilidades e saldos com o banco central' : 'caixa_equival' , \n",
        "                      'disponibilidades e saldos com o banco central do brasil' : 'caixa_equival' , \n",
        "                      'disponivel e saldos no banco central da republica argentina' : 'caixa_equival' ,\n",
        "                      'aplicacoes financeiras' : 'aplicacoes_financ' , \n",
        "                      'aplicacoes no mercado aberto (antes da adocao do ifrs 9)' : 'aplicacoes_financ' , \n",
        "                      'contas especiais de garantia em bancos centrais' : 'aplicacoes_financ' , \n",
        "                      'depositos compulsorios no banco central' : 'aplicacoes_financ' , \n",
        "                      'depositos interfinanceiros' : 'aplicacoes_financ' , \n",
        "                      'emprestimos a instituicoes financeiras' : 'aplicacoes_financ' , \n",
        "                      'relacoes interfinanceiras' : 'aplicacoes_financ' , \n",
        "                      'reservas no banco central' : 'aplicacoes_financ' , \n",
        "                      'reservas no banco central e aplicacao no mercado aberto' : 'aplicacoes_financ' , \n",
        "                      'saldos em outras entidades financeiras' : 'aplicacoes_financ',\n",
        "                      'ativo nao circulante' : 'ativo_nao_circ' , \n",
        "                      'ativos financeiros' : 'ativo_nao_circ' }\n",
        "\n",
        "replace_value_bpp = {'passivo total' : 'passivo_total' , \n",
        "                      'passivo circulante' : 'passivo_circ' , \n",
        "                      'passivos financeiros ao valor justo atraves do resultado' : 'passivo_circ' , \n",
        "                      'passivos financeiros para negociacao' : 'passivo_circ' ,\n",
        "                      'outros passivos financeiros ao valor justo no resultado' : 'passivo_nao_circ' , \n",
        "                      'outros passivos financeiros designados ao valor justo atraves do resultado' : 'passivo_nao_circ' , \n",
        "                      'passivo nao circulante' : 'passivo_nao_circ' , \n",
        "                      'passivos financeiros ao custo amortizado' : 'patrimonio_liquido' , \n",
        "                      'patrimonio liquido consolidado' : 'patrimonio_liquido'}\n",
        "\n",
        "replace_value_dre = { 'receita de venda de bens e ou servicos' : 'receita_liq' , \n",
        "                      'receitas da intermediacao financeira' : 'receita_liq' , \n",
        "                      'receitas das operacoes' : 'receita_liq' , \n",
        "                      'outras receitas e despesas operacionais' : 'ebit' , \n",
        "                      'resultado antes do resultado financeiro e dos tributos' : 'ebit' ,\n",
        "                      'lucro prejuizo consolidado do periodo' : 'lucro_liq'}\n",
        "\n",
        "replace_value_dfc = { 'caixa liquido atividades operacionais' : 'fco' }"
      ],
      "execution_count": 2,
      "outputs": []
    },
    {
      "cell_type": "markdown",
      "metadata": {
        "id": "aS_2jVtoaOjw"
      },
      "source": [
        "# 3 Convert CSV"
      ]
    },
    {
      "cell_type": "code",
      "metadata": {
        "id": "84zYBXekaVfy"
      },
      "source": [
        "# import BPA\n",
        "bpa_01_csv = ('/content/drive/MyDrive/Bovespa_ITR/BPA/itr_cia_aberta_BPA_con_2011.csv')\n",
        "bpa_02_csv = ('/content/drive/MyDrive/Bovespa_ITR/BPA/itr_cia_aberta_BPA_con_2012.csv')\n",
        "bpa_03_csv = ('/content/drive/MyDrive/Bovespa_ITR/BPA/itr_cia_aberta_BPA_con_2013.csv')\n",
        "bpa_04_csv = ('/content/drive/MyDrive/Bovespa_ITR/BPA/itr_cia_aberta_BPA_con_2014.csv')\n",
        "bpa_05_csv = ('/content/drive/MyDrive/Bovespa_ITR/BPA/itr_cia_aberta_BPA_con_2015.csv')\n",
        "bpa_06_csv = ('/content/drive/MyDrive/Bovespa_ITR/BPA/itr_cia_aberta_BPA_con_2016.csv')\n",
        "bpa_07_csv = ('/content/drive/MyDrive/Bovespa_ITR/BPA/itr_cia_aberta_BPA_con_2017.csv')\n",
        "bpa_08_csv = ('/content/drive/MyDrive/Bovespa_ITR/BPA/itr_cia_aberta_BPA_con_2018.csv')\n",
        "bpa_09_csv = ('/content/drive/MyDrive/Bovespa_ITR/BPA/itr_cia_aberta_BPA_con_2019.csv')\n",
        "bpa_10_csv = ('/content/drive/MyDrive/Bovespa_ITR/BPA/itr_cia_aberta_BPA_con_2020.csv')\n",
        "bpa_11_csv = ('/content/drive/MyDrive/Bovespa_ITR/BPA/itr_cia_aberta_BPA_con_2021.csv')\n",
        "\n",
        "# edicao e juncao do BPA\n",
        "bpa_01 = pd.read_csv(bpa_01_csv , decimal=',' ,  delimiter=';' , error_bad_lines=False , encoding='latin-1')\n",
        "bpa_02 = pd.read_csv(bpa_02_csv , decimal=',' ,  delimiter=';' , error_bad_lines=False , encoding='latin-1')\n",
        "bpa_03 = pd.read_csv(bpa_03_csv , decimal=',' ,  delimiter=';' , error_bad_lines=False , encoding='latin-1')\n",
        "bpa_04 = pd.read_csv(bpa_04_csv , decimal=',' ,  delimiter=';' , error_bad_lines=False , encoding='latin-1')\n",
        "bpa_05 = pd.read_csv(bpa_05_csv , decimal=',' ,  delimiter=';' , error_bad_lines=False , encoding='latin-1')\n",
        "bpa_06 = pd.read_csv(bpa_06_csv , decimal=',' ,  delimiter=';' , error_bad_lines=False , encoding='latin-1')\n",
        "bpa_07 = pd.read_csv(bpa_07_csv , decimal=',' ,  delimiter=';' , error_bad_lines=False , encoding='latin-1')\n",
        "bpa_08 = pd.read_csv(bpa_08_csv , decimal=',' ,  delimiter=';' , error_bad_lines=False , encoding='latin-1')\n",
        "bpa_09 = pd.read_csv(bpa_09_csv , decimal=',' ,  delimiter=';' , error_bad_lines=False , encoding='latin-1')\n",
        "bpa_10 = pd.read_csv(bpa_10_csv , decimal=',' ,  delimiter=';' , error_bad_lines=False , encoding='latin-1')\n",
        "bpa_11 = pd.read_csv(bpa_11_csv , decimal=',' ,  delimiter=';' , error_bad_lines=False , encoding='latin-1')\n",
        "\n",
        "bpa = pd.concat([bpa_01 , bpa_02 , bpa_03 , bpa_04 , bpa_05 , bpa_06 , bpa_07 , bpa_08 , bpa_09 , bpa_10 , bpa_11 ], ignore_index=True)\n",
        "bpa['VL_CONTA'] = bpa['VL_CONTA'].astype(str)\n",
        "bpa['VL_CONTA'] = bpa['VL_CONTA'].str.replace('.0000000000', ' ')\n",
        "\n",
        "# codigo que apaga todas os numeros deopis do .\n",
        "bpa['VL_CONTA'] = bpa['VL_CONTA'].str.extract(r'(\\d+)', expand=False)\n",
        "\n",
        "bpa['VL_CONTA'] = bpa['VL_CONTA'].astype(int)\n",
        "bpa['DT_REFER'] = pd.to_datetime(bpa['DT_REFER'])\n",
        "bpa['CD_CVM'] = bpa['CD_CVM'].astype(int)\n",
        "bpa['DT_FIM_EXERC'] = pd.to_datetime(bpa['DT_FIM_EXERC'])\n",
        "\n",
        "# Limpando as colunas do df\n",
        "bpa = bpa.drop(['DT_REFER' ,\n",
        "                'VERSAO' , \n",
        "                'GRUPO_DFP' , \n",
        "                'MOEDA' ,\n",
        "                'ESCALA_MOEDA' , \n",
        "                'ORDEM_EXERC' , \n",
        "                'ST_CONTA_FIXA'] , axis=1)\n",
        "\n",
        "# Modificando posicao das colunas\n",
        "bpa = bpa[['DENOM_CIA' , 'CD_CVM' , 'CNPJ_CIA' , 'DT_FIM_EXERC' , 'CD_CONTA' , 'DS_CONTA' , 'VL_CONTA']]\n",
        "bpa = bpa.sort_values(by=['DENOM_CIA' , 'CD_CONTA' ], ascending=True)\n",
        "\n",
        "# Diminuia para minuscula\n",
        "bpa['DS_CONTA'] = bpa['DS_CONTA'].str.lower()\n",
        "\n",
        "# codigo limpa todos os pontos\n",
        "bpa['DS_CONTA'] = bpa['DS_CONTA'].str.normalize('NFKD').str.encode('ascii', errors='ignore').str.decode('utf-8')\n",
        "\n",
        "# Substitui CD_CONTA para padrao\n",
        "bpa = (bpa.replace({'DS_CONTA' : replace_value_bpa} , regex=True).astype(str))\n",
        "\n",
        "# Dropa as duplicadas\n",
        "bpa.drop_duplicates(subset=None, keep=\"first\", inplace=True)"
      ],
      "execution_count": 4,
      "outputs": []
    },
    {
      "cell_type": "code",
      "metadata": {
        "id": "ZFlG7dDDc3BV"
      },
      "source": [
        "# import BPP\n",
        "bpp_01_csv = ('/content/drive/MyDrive/Bovespa_ITR/BPP/itr_cia_aberta_BPP_con_2011.csv')\n",
        "bpp_02_csv = ('/content/drive/MyDrive/Bovespa_ITR/BPP/itr_cia_aberta_BPP_con_2012.csv')\n",
        "bpp_03_csv = ('/content/drive/MyDrive/Bovespa_ITR/BPP/itr_cia_aberta_BPP_con_2013.csv')\n",
        "bpp_04_csv = ('/content/drive/MyDrive/Bovespa_ITR/BPP/itr_cia_aberta_BPP_con_2014.csv')\n",
        "bpp_05_csv = ('/content/drive/MyDrive/Bovespa_ITR/BPP/itr_cia_aberta_BPP_con_2015.csv')\n",
        "bpp_06_csv = ('/content/drive/MyDrive/Bovespa_ITR/BPP/itr_cia_aberta_BPP_con_2016.csv')\n",
        "bpp_07_csv = ('/content/drive/MyDrive/Bovespa_ITR/BPP/itr_cia_aberta_BPP_con_2017.csv')\n",
        "bpp_08_csv = ('/content/drive/MyDrive/Bovespa_ITR/BPP/itr_cia_aberta_BPP_con_2018.csv')\n",
        "bpp_09_csv = ('/content/drive/MyDrive/Bovespa_ITR/BPP/itr_cia_aberta_BPP_con_2019.csv')\n",
        "bpp_10_csv = ('/content/drive/MyDrive/Bovespa_ITR/BPP/itr_cia_aberta_BPP_con_2020.csv')\n",
        "bpp_11_csv = ('/content/drive/MyDrive/Bovespa_ITR/BPP/itr_cia_aberta_BPP_con_2021.csv')\n",
        "\n",
        "# edicao e juncao do BPA\n",
        "bpp_01 = pd.read_csv(bpp_01_csv , decimal=',' ,  delimiter=';' , error_bad_lines=False , encoding='latin-1')\n",
        "bpp_02 = pd.read_csv(bpp_02_csv , decimal=',' ,  delimiter=';' , error_bad_lines=False , encoding='latin-1')\n",
        "bpp_03 = pd.read_csv(bpp_03_csv , decimal=',' ,  delimiter=';' , error_bad_lines=False , encoding='latin-1')\n",
        "bpp_04 = pd.read_csv(bpp_04_csv , decimal=',' ,  delimiter=';' , error_bad_lines=False , encoding='latin-1')\n",
        "bpp_05 = pd.read_csv(bpp_05_csv , decimal=',' ,  delimiter=';' , error_bad_lines=False , encoding='latin-1')\n",
        "bpp_06 = pd.read_csv(bpp_06_csv , decimal=',' ,  delimiter=';' , error_bad_lines=False , encoding='latin-1')\n",
        "bpp_07 = pd.read_csv(bpp_07_csv , decimal=',' ,  delimiter=';' , error_bad_lines=False , encoding='latin-1')\n",
        "bpp_08 = pd.read_csv(bpp_08_csv , decimal=',' ,  delimiter=';' , error_bad_lines=False , encoding='latin-1')\n",
        "bpp_09 = pd.read_csv(bpp_09_csv , decimal=',' ,  delimiter=';' , error_bad_lines=False , encoding='latin-1')\n",
        "bpp_10 = pd.read_csv(bpp_10_csv , decimal=',' ,  delimiter=';' , error_bad_lines=False , encoding='latin-1')\n",
        "bpp_11 = pd.read_csv(bpp_11_csv , decimal=',' ,  delimiter=';' , error_bad_lines=False , encoding='latin-1')\n",
        "\n",
        "bpp = pd.concat([bpp_01 , bpp_02 , bpp_03 , bpp_04 , bpp_05 , bpp_06 , bpp_07 , bpp_08 , bpp_09 , bpp_10 , bpp_11 ], ignore_index=True)\n",
        "bpp['VL_CONTA'] = bpp['VL_CONTA'].astype(str)\n",
        "bpp['VL_CONTA'] = bpp['VL_CONTA'].str.replace('.0000000000', ' ')\n",
        "\n",
        "# codigo que apaga todas os numeros deopis do .\n",
        "bpp['VL_CONTA'] = bpp['VL_CONTA'].str.extract(r'(\\d+)', expand=False)\n",
        "\n",
        "bpp['VL_CONTA'] = bpp['VL_CONTA'].astype(int)\n",
        "bpp['DT_REFER'] = pd.to_datetime(bpp['DT_REFER'])\n",
        "bpp['CD_CVM'] = bpp['CD_CVM'].astype(int)\n",
        "bpp['DT_FIM_EXERC'] = pd.to_datetime(bpp['DT_FIM_EXERC'])\n",
        "\n",
        "# Limpando as colunas do df\n",
        "bpp = bpp.drop(['DT_REFER' ,\n",
        "                'VERSAO' , \n",
        "                'GRUPO_DFP' , \n",
        "                'MOEDA' ,\n",
        "                'ESCALA_MOEDA' , \n",
        "                'ORDEM_EXERC' , \n",
        "                'ST_CONTA_FIXA'] , axis=1)\n",
        "\n",
        "# Modificando posicao das colunas\n",
        "bpp = bpp[['DENOM_CIA' , 'CD_CVM' , 'CNPJ_CIA' , 'DT_FIM_EXERC' , 'CD_CONTA' , 'DS_CONTA' , 'VL_CONTA']]\n",
        "bpp = bpp.sort_values(by=['DENOM_CIA' , 'CD_CONTA' ], ascending=True)\n",
        "\n",
        "# Diminuia para minuscula\n",
        "bpp['DS_CONTA'] = bpp['DS_CONTA'].str.lower()\n",
        "\n",
        "# codigo limpa todos os pontos\n",
        "bpp['DS_CONTA'] = bpp['DS_CONTA'].str.normalize('NFKD').str.encode('ascii', errors='ignore').str.decode('utf-8')\n",
        "\n",
        "# Substitui CD_CONTA para padrao\n",
        "bpp = (bpp.replace({'DS_CONTA' : replace_value_bpp} , regex=True).astype(str))\n",
        "\n",
        "# Dropa as duplicadas\n",
        "bpp.drop_duplicates(subset=None, keep=\"first\", inplace=True)"
      ],
      "execution_count": 5,
      "outputs": []
    },
    {
      "cell_type": "code",
      "metadata": {
        "id": "ewl8NP5vWCOx"
      },
      "source": [
        ""
      ],
      "execution_count": null,
      "outputs": []
    },
    {
      "cell_type": "code",
      "metadata": {
        "id": "wzO52I79cBcd"
      },
      "source": [
        "# import DRE\n",
        "dre_01_csv = ('/content/drive/MyDrive/Bovespa_ITR/DRE/itr_cia_aberta_DRE_con_2011.csv')\n",
        "dre_02_csv = ('/content/drive/MyDrive/Bovespa_ITR/DRE/itr_cia_aberta_DRE_con_2012.csv')\n",
        "dre_03_csv = ('/content/drive/MyDrive/Bovespa_ITR/DRE/itr_cia_aberta_DRE_con_2013.csv')\n",
        "dre_04_csv = ('/content/drive/MyDrive/Bovespa_ITR/DRE/itr_cia_aberta_DRE_con_2014.csv')\n",
        "dre_05_csv = ('/content/drive/MyDrive/Bovespa_ITR/DRE/itr_cia_aberta_DRE_con_2015.csv')\n",
        "dre_06_csv = ('/content/drive/MyDrive/Bovespa_ITR/DRE/itr_cia_aberta_DRE_con_2016.csv')\n",
        "dre_07_csv = ('/content/drive/MyDrive/Bovespa_ITR/DRE/itr_cia_aberta_DRE_con_2017.csv')\n",
        "dre_08_csv = ('/content/drive/MyDrive/Bovespa_ITR/DRE/itr_cia_aberta_DRE_con_2018.csv')\n",
        "dre_09_csv = ('/content/drive/MyDrive/Bovespa_ITR/DRE/itr_cia_aberta_DRE_con_2019.csv')\n",
        "dre_10_csv = ('/content/drive/MyDrive/Bovespa_ITR/DRE/itr_cia_aberta_DRE_con_2020.csv')\n",
        "dre_11_csv = ('/content/drive/MyDrive/Bovespa_ITR/DRE/itr_cia_aberta_DRE_con_2021.csv')\n",
        "\n",
        "# edicao e juncao do DRE\n",
        "dre_01 = pd.read_csv(dre_01_csv , decimal=',' ,  delimiter=';' , error_bad_lines=False , encoding='latin-1')\n",
        "dre_02 = pd.read_csv(dre_02_csv , decimal=',' ,  delimiter=';' , error_bad_lines=False , encoding='latin-1')\n",
        "dre_03 = pd.read_csv(dre_03_csv , decimal=',' ,  delimiter=';' , error_bad_lines=False , encoding='latin-1')\n",
        "dre_04 = pd.read_csv(dre_04_csv , decimal=',' ,  delimiter=';' , error_bad_lines=False , encoding='latin-1')\n",
        "dre_05 = pd.read_csv(dre_05_csv , decimal=',' ,  delimiter=';' , error_bad_lines=False , encoding='latin-1')\n",
        "dre_06 = pd.read_csv(dre_06_csv , decimal=',' ,  delimiter=';' , error_bad_lines=False , encoding='latin-1')\n",
        "dre_07 = pd.read_csv(dre_07_csv , decimal=',' ,  delimiter=';' , error_bad_lines=False , encoding='latin-1')\n",
        "dre_08 = pd.read_csv(dre_08_csv , decimal=',' ,  delimiter=';' , error_bad_lines=False , encoding='latin-1')\n",
        "dre_09 = pd.read_csv(dre_09_csv , decimal=',' ,  delimiter=';' , error_bad_lines=False , encoding='latin-1')\n",
        "dre_10 = pd.read_csv(dre_10_csv , decimal=',' ,  delimiter=';' , error_bad_lines=False , encoding='latin-1')\n",
        "dre_11 = pd.read_csv(dre_11_csv , decimal=',' ,  delimiter=';' , error_bad_lines=False , encoding='latin-1')\n",
        "\n",
        "dre = pd.concat([dre_01 , dre_02 , dre_03 , dre_04 , dre_05 , dre_06 , dre_07 , dre_08 , dre_09 , dre_10 , dre_11], ignore_index=True)\n",
        "dre['VL_CONTA'] = dre['VL_CONTA'].astype(str)\n",
        "dre['VL_CONTA'] = dre['VL_CONTA'].str.replace('.0000000000', ' ')\n",
        "\n",
        "# codigo que apaga todas os numeros deopis do .\n",
        "dre['VL_CONTA'] = dre['VL_CONTA'].str.extract(r'(\\d+)', expand=False)\n",
        "\n",
        "dre.VL_CONTA = dre.VL_CONTA.str.split('.').str[0].astype(int)\n",
        "dre['DT_REFER'] = pd.to_datetime(dre['DT_REFER'])\n",
        "dre['CD_CVM'] = dre['CD_CVM'].astype(int)\n",
        "dre['DT_FIM_EXERC'] = pd.to_datetime(dre['DT_FIM_EXERC'])\n",
        "\n",
        "# Limpando as colunas do df\n",
        "dre = dre.drop(['DT_REFER' ,\n",
        "                'VERSAO' , \n",
        "                'GRUPO_DFP' , \n",
        "                'MOEDA' ,\n",
        "                'ESCALA_MOEDA' , \n",
        "                'ORDEM_EXERC' , \n",
        "                'ST_CONTA_FIXA'] , axis=1)\n",
        "\n",
        "# Modificando posicao das colunas\n",
        "dre = dre[['DENOM_CIA' , 'CD_CVM' , 'CNPJ_CIA' , 'DT_INI_EXERC' , 'DT_FIM_EXERC' , 'CD_CONTA' , 'DS_CONTA' , 'VL_CONTA']]\n",
        "dre = dre.sort_values(by=['DENOM_CIA' , 'CD_CONTA' ], ascending=True)\n",
        "\n",
        "# codigo retira todos os acentos\n",
        "dre['DS_CONTA'] = dre['DS_CONTA'].str.normalize('NFKD').str.encode('ascii', errors='ignore').str.decode('utf-8')\n",
        "\n",
        "# codigo deixa todos em minuscula lower = minuscula upper = maiuscula\n",
        "dre['DS_CONTA'] = dre['DS_CONTA'].str.lower()\n",
        "\n",
        "# codigo para substituir string em uma coluna\n",
        "dre['DS_CONTA'] = dre.DS_CONTA.str.replace('-', ' ').str.replace('/', ' ').str.replace('.', ' ')\n",
        "\n",
        "# Diminuia para minuscula\n",
        "dre['DS_CONTA'] = dre['DS_CONTA'].str.lower()\n",
        "\n",
        "# codigo limpa todos os pontos\n",
        "dre['DS_CONTA'] = dre['DS_CONTA'].str.normalize('NFKD').str.encode('ascii', errors='ignore').str.decode('utf-8')\n",
        "\n",
        "# Substitui CD_CONTA para padrao\n",
        "dre = (dre.replace({'DS_CONTA' : replace_value_dre} , regex=True).astype(str))\n",
        "\n",
        "# Dropa as duplicadas\n",
        "dre.drop_duplicates(subset=None, keep=\"first\", inplace=True)"
      ],
      "execution_count": 16,
      "outputs": []
    },
    {
      "cell_type": "code",
      "metadata": {
        "id": "Z35mS0FLRJhY"
      },
      "source": [
        "# import DFC\n",
        "dfc_01_csv = ('/content/drive/MyDrive/Bovespa_ITR/DFC/itr_cia_aberta_DFC_MI_con_2011.csv')\n",
        "dfc_02_csv = ('/content/drive/MyDrive/Bovespa_ITR/DFC/itr_cia_aberta_DFC_MI_con_2012.csv')\n",
        "dfc_03_csv = ('/content/drive/MyDrive/Bovespa_ITR/DFC/itr_cia_aberta_DFC_MI_con_2013.csv')\n",
        "dfc_04_csv = ('/content/drive/MyDrive/Bovespa_ITR/DFC/itr_cia_aberta_DFC_MI_con_2014.csv')\n",
        "dfc_05_csv = ('/content/drive/MyDrive/Bovespa_ITR/DFC/itr_cia_aberta_DFC_MI_con_2015.csv')\n",
        "dfc_06_csv = ('/content/drive/MyDrive/Bovespa_ITR/DFC/itr_cia_aberta_DFC_MI_con_2016.csv')\n",
        "dfc_07_csv = ('/content/drive/MyDrive/Bovespa_ITR/DFC/itr_cia_aberta_DFC_MI_con_2017.csv')\n",
        "dfc_08_csv = ('/content/drive/MyDrive/Bovespa_ITR/DFC/itr_cia_aberta_DFC_MI_con_2018.csv')\n",
        "dfc_09_csv = ('/content/drive/MyDrive/Bovespa_ITR/DFC/itr_cia_aberta_DFC_MI_con_2019.csv')\n",
        "dfc_10_csv = ('/content/drive/MyDrive/Bovespa_ITR/DFC/itr_cia_aberta_DFC_MI_con_2020.csv')\n",
        "dfc_11_csv = ('/content/drive/MyDrive/Bovespa_ITR/DFC/itr_cia_aberta_DFC_MI_con_2021.csv')\n",
        "\n",
        "# edicao e juncao do DFC\n",
        "dfc_01 = pd.read_csv(dfc_01_csv , decimal=',' ,  delimiter=';' , error_bad_lines=False , encoding='latin-1')\n",
        "dfc_02 = pd.read_csv(dfc_02_csv , decimal=',' ,  delimiter=';' , error_bad_lines=False , encoding='latin-1')\n",
        "dfc_03 = pd.read_csv(dfc_03_csv , decimal=',' ,  delimiter=';' , error_bad_lines=False , encoding='latin-1')\n",
        "dfc_04 = pd.read_csv(dfc_04_csv , decimal=',' ,  delimiter=';' , error_bad_lines=False , encoding='latin-1')\n",
        "dfc_05 = pd.read_csv(dfc_05_csv , decimal=',' ,  delimiter=';' , error_bad_lines=False , encoding='latin-1')\n",
        "dfc_06 = pd.read_csv(dfc_06_csv , decimal=',' ,  delimiter=';' , error_bad_lines=False , encoding='latin-1')\n",
        "dfc_07 = pd.read_csv(dfc_07_csv , decimal=',' ,  delimiter=';' , error_bad_lines=False , encoding='latin-1')\n",
        "dfc_08 = pd.read_csv(dfc_08_csv , decimal=',' ,  delimiter=';' , error_bad_lines=False , encoding='latin-1')\n",
        "dfc_09 = pd.read_csv(dfc_09_csv , decimal=',' ,  delimiter=';' , error_bad_lines=False , encoding='latin-1')\n",
        "dfc_10 = pd.read_csv(dfc_10_csv , decimal=',' ,  delimiter=';' , error_bad_lines=False , encoding='latin-1')\n",
        "dfc_11 = pd.read_csv(dfc_11_csv , decimal=',' ,  delimiter=';' , error_bad_lines=False , encoding='latin-1')\n",
        "\n",
        "dfc = pd.concat([dfc_01 , dfc_02 , dfc_03 , dfc_04 , dfc_05 , dfc_06 , dfc_07 , dfc_08 , dfc_09 , dfc_10 , dfc_11], ignore_index=True)\n",
        "dfc['VL_CONTA'] = dfc['VL_CONTA'].astype(str)\n",
        "dfc['VL_CONTA'] = dfc['VL_CONTA'].str.replace('.0000000000', ' ')\n",
        "\n",
        "# codigo que apaga todas os numeros deopis do .\n",
        "dfc['VL_CONTA'] = dfc['VL_CONTA'].str.extract(r'(\\d+)', expand=False)\n",
        "\n",
        "# dfc['VL_CONTA'] = dfc['VL_CONTA'].astype(int)\n",
        "dfc['DT_REFER'] = pd.to_datetime(dfc['DT_REFER'])\n",
        "dfc['CD_CVM'] = dfc['CD_CVM'].astype(int)\n",
        "dfc['DT_FIM_EXERC'] = pd.to_datetime(dfc['DT_FIM_EXERC'])\n",
        "\n",
        "# Limpando as colunas do df\n",
        "dfc = dfc.drop(['DT_REFER' ,\n",
        "                'VERSAO' , \n",
        "                'GRUPO_DFP' , \n",
        "                'MOEDA' ,\n",
        "                'ESCALA_MOEDA' , \n",
        "                'ORDEM_EXERC' , \n",
        "                'ST_CONTA_FIXA'] , axis=1)\n",
        "\n",
        "# Modificando posicao das colunas\n",
        "dfc = dfc[['DENOM_CIA' , 'CD_CVM' , 'CNPJ_CIA' , 'DT_INI_EXERC' ,'DT_FIM_EXERC' , 'CD_CONTA' , 'DS_CONTA' , 'VL_CONTA']]\n",
        "dfc = dfc.sort_values(by=['DENOM_CIA' , 'CD_CONTA' ], ascending=True)\n",
        "\n",
        "# Diminuia para minuscula\n",
        "dfc['DS_CONTA'] = dfc['DS_CONTA'].str.lower()\n",
        "\n",
        "# codigo limpa todos os pontos\n",
        "dfc['DS_CONTA'] = dfc['DS_CONTA'].str.normalize('NFKD').str.encode('ascii', errors='ignore').str.decode('utf-8')\n",
        "\n",
        "# Substitui CD_CONTA para padrao\n",
        "dfc = (dfc.replace({'DS_CONTA' : replace_value_dfc} , regex=True).astype(str))\n",
        "\n",
        "# Dropa as duplicadas\n",
        "dfc.drop_duplicates(subset=None, keep=\"first\", inplace=True)"
      ],
      "execution_count": 17,
      "outputs": []
    },
    {
      "cell_type": "code",
      "metadata": {
        "id": "xcpO3Vc8b479"
      },
      "source": [
        "dre"
      ],
      "execution_count": null,
      "outputs": []
    },
    {
      "cell_type": "markdown",
      "metadata": {
        "id": "fnEvs6NrR_EK"
      },
      "source": [
        "# 4 Juntando todas as DFP"
      ]
    },
    {
      "cell_type": "code",
      "metadata": {
        "id": "bEnmPz8KSHEa"
      },
      "source": [
        "dfp = pd.concat([dre , bpa , bpp , dfc], ignore_index=True)\n",
        "dfp = dfp.sort_values([\"CD_CVM\" , \"CD_CONTA\"], ascending = (True, True))\n",
        "dfp = dfp.reset_index()\n",
        "\n",
        "# Dropa duplicadas\n",
        "dfp.drop_duplicates(subset=None, keep=\"first\", inplace=True)\n",
        "dfp = dfp.drop(dfp.columns[0],axis=1)"
      ],
      "execution_count": 20,
      "outputs": []
    },
    {
      "cell_type": "code",
      "metadata": {
        "id": "cVckmND3SLWS"
      },
      "source": [
        "dfp.to_csv(path_or_buf='/content/drive/MyDrive/Bovespa_ITR/dfp.csv')"
      ],
      "execution_count": 24,
      "outputs": []
    },
    {
      "cell_type": "code",
      "metadata": {
        "id": "UK1NIwFSSXYQ"
      },
      "source": [
        "# dfp"
      ],
      "execution_count": null,
      "outputs": []
    },
    {
      "cell_type": "markdown",
      "metadata": {
        "id": "zcxX0S5zSlDR"
      },
      "source": [
        "# 5 Import CSV"
      ]
    },
    {
      "cell_type": "code",
      "metadata": {
        "id": "cVH8AgeKSnf5"
      },
      "source": [
        "# leitura dfc\n",
        "dfp_csv = ('/content/drive/MyDrive/Bovespa_ITR/dfp.csv')\n",
        "\n",
        "# abre arquivo .csv\n",
        "dfp_base = []\n",
        "dfp_base = pd.read_csv(dfp_csv , delimiter=',' , error_bad_lines=False , encoding='latin-1')\n",
        "\n",
        "# dropa a coluna 0\n",
        "dfp_base = dfp_base.drop(dfp_base.columns[0],axis=1)\n",
        "dfp_base.drop_duplicates(subset=None, keep=\"first\", inplace=True)"
      ],
      "execution_count": 50,
      "outputs": []
    },
    {
      "cell_type": "markdown",
      "metadata": {
        "id": "Qi2yC3MVSzWk"
      },
      "source": [
        "# 6 Separacao e busca por nome"
      ]
    },
    {
      "cell_type": "code",
      "metadata": {
        "id": "nBTS1YdYXIZT"
      },
      "source": [
        "###########################################################################\n",
        "###########################################################################\n",
        "######################### Busca por Nome\n",
        "# Lista para separa na DFP\n",
        "\n",
        "\n",
        "# Altera o que buscar\n",
        "# lst_busca = {'ebit' , 'lucro_liq' }\n",
        "lst_busca = {'ebit' , \n",
        "             'fco' , \n",
        "             'lucro_liq' ,\n",
        "             'receita_liq'}\n",
        "\n",
        "\n",
        "\n",
        "# Busca dentro da dfp\n",
        "dfp_base = dfp_base[(dfp_base[dfp_base.columns[6]].isin(lst_busca))]\n",
        "# Preenche as fillna com os dados da proxima coluna\n",
        "dfp_base['DT_INI_EXERC'].fillna(dfp_base['DT_FIM_EXERC'], inplace=True)"
      ],
      "execution_count": 51,
      "outputs": []
    },
    {
      "cell_type": "code",
      "metadata": {
        "id": "K28_rxLHcYM-"
      },
      "source": [
        ""
      ],
      "execution_count": 43,
      "outputs": []
    },
    {
      "cell_type": "code",
      "metadata": {
        "id": "Rl-XsK2aS14B"
      },
      "source": [
        "# Cria as data \n",
        "# 1_tri_2010  2010-01-01\t2010-03-31 OK\n",
        "# 2_tri_2010\t2010-04-01\t2010-06-30 OK\n",
        "# 3_tri_2010\t2010-07-01\t2010-09-30 OK\n",
        "# 1_tri_2011\t2011-01-01\t2011-03-31\n",
        "# 2_tri_2011\t2011-04-01\t2011-06-30\n",
        "# 3_tri_2011\t2011-07-01\t2011-09-30\n",
        "# 1_tri_2012\t2012-01-01\t2012-03-31\n",
        "# 2_tri_2012\t2012-04-01\t2012-06-30\n",
        "# 3_tri_2012\t2012-07-01\t2012-09-30\n",
        "# 1_tri_2013\t2013-01-01\t2013-03-31\n",
        "# 2_tri_2013\t2013-04-01\t2013-06-30\n",
        "# 3_tri_2013\t2013-07-01\t2013-09-30\n",
        "# 1_tri_2014\t2014-01-01\t2014-03-31\n",
        "# 2_tri_2014\t2014-04-01\t2014-06-30\n",
        "# 3_tri_2014\t2014-07-01\t2014-09-30\n",
        "# 1_tri_2015\t2015-01-01\t2015-03-31\n",
        "# 2_tri_2015\t2015-04-01\t2015-06-30\n",
        "# 3_tri_2015\t2015-07-01\t2015-09-30\n",
        "# 1_tri_2016\t2016-01-01\t2016-03-31\n",
        "# 2_tri_2016\t2016-04-01\t2016-06-30\n",
        "# 3_tri_2016\t2016-07-01\t2016-09-30\n",
        "# 1_tri_2017\t2017-01-01\t2017-03-31\n",
        "# 2_tri_2017\t2017-04-01\t2017-06-30\n",
        "# 3_tri_2017\t2017-07-01\t2017-09-30\n",
        "# 1_tri_2018\t2018-01-01\t2018-03-31\n",
        "# 2_tri_2018\t2018-04-01\t2018-06-30\n",
        "# 3_tri_2018\t2018-07-01\t2018-09-30\n",
        "# 1_tri_2019\t2019-01-01\t2019-03-31\n",
        "# 2_tri_2019\t2019-04-01\t2019-06-30\n",
        "# 3_tri_2019\t2019-07-01\t2019-09-30\n",
        "# 1_tri_2020\t2020-01-01\t2020-03-31\n",
        "# 2_tri_2020\t2020-04-01\t2020-06-30\n",
        "# 3_tri_2020\t2020-07-01\t2020-09-30\n",
        "# 1_tri_2021\t2021-01-01\t2021-03-31\n",
        "# 2_tri_2021\t2021-04-01\t2021-06-30\n",
        "# 3_tri_2021\t2021-07-01\t2021-09-30"
      ],
      "execution_count": null,
      "outputs": []
    },
    {
      "cell_type": "code",
      "metadata": {
        "id": "OpEl87JMXwfU"
      },
      "source": [
        "# cria as lista de indicadores\n",
        "\n",
        "# pri_tri_2010\n",
        "# escolhe apenas a data\n",
        "pri_tri_2010 = dfp_base[(dfp_base[dfp_base.columns[3]] >= '2010-01-01') & (dfp_base.DT_FIM_EXERC <= '2010-03-31')]\n",
        "\n",
        "# renomeia a coluna VL_CONTA para o ano  base\n",
        "pri_tri_2010 = pri_tri_2010.rename({'VL_CONTA': 'PRI_TRI_2010'}, axis=1)\n",
        "\n",
        "# escolhe apenas as coluna selecionadas\n",
        "pri_tri_2010 = pri_tri_2010[['DENOM_CIA' , 'CD_CVM' , 'CNPJ_CIA' , 'CD_CONTA' ,'DS_CONTA' , 'PRI_TRI_2010']]\n",
        "################################################################################\n",
        "################################################################################\n",
        "################################################################################\n",
        "# seg_tri_2010\n",
        "# escolhe apenas a data\n",
        "seg_tri_2010 = dfp_base[(dfp_base[dfp_base.columns[3]] >= '2010-04-01') & (dfp_base.DT_FIM_EXERC <= '2010-06-30')]\n",
        "\n",
        "# renomeia a coluna VL_CONTA para o ano  base\n",
        "seg_tri_2010 = seg_tri_2010.rename({'VL_CONTA': 'SEG_TRI_2010'}, axis=1)\n",
        "\n",
        "# escolhe apenas as coluna selecionadas\n",
        "seg_tri_2010 = seg_tri_2010[['DENOM_CIA' , 'CD_CVM' , 'CNPJ_CIA' , 'CD_CONTA' ,'DS_CONTA' , 'SEG_TRI_2010']]\n",
        "################################################################################\n",
        "################################################################################\n",
        "################################################################################\n",
        "# ter_tri_2010\n",
        "# escolhe apenas a data\n",
        "ter_tri_2010 = dfp_base[(dfp_base[dfp_base.columns[3]] >= '2010-07-01') & (dfp_base.DT_FIM_EXERC <= '2010-09-30')]\n",
        "\n",
        "# renomeia a coluna VL_CONTA para o ano  base\n",
        "ter_tri_2010 = ter_tri_2010.rename({'VL_CONTA': 'TER_TRI_2010'}, axis=1)\n",
        "\n",
        "# escolhe apenas as coluna selecionadas\n",
        "ter_tri_2010 = ter_tri_2010[['DENOM_CIA' , 'CD_CVM' , 'CNPJ_CIA' , 'CD_CONTA' ,'DS_CONTA' , 'TER_TRI_2010']]"
      ],
      "execution_count": 59,
      "outputs": []
    },
    {
      "cell_type": "code",
      "metadata": {
        "id": "RGS59oKteETg"
      },
      "source": [
        "# cria as lista de indicadores\n",
        "\n",
        "# pri_tri_2010\n",
        "# escolhe apenas a data\n",
        "pri_tri_2010 = dfp_base[(dfp_base[dfp_base.columns[3]] >= '2010-01-01') & (dfp_base.DT_FIM_EXERC <= '2010-03-31')]\n",
        "\n",
        "# renomeia a coluna VL_CONTA para o ano  base\n",
        "pri_tri_2010 = pri_tri_2010.rename({'VL_CONTA': 'PRI_TRI_2010'}, axis=1)\n",
        "\n",
        "# escolhe apenas as coluna selecionadas\n",
        "pri_tri_2010 = pri_tri_2010[['DENOM_CIA' , 'CD_CVM' , 'CNPJ_CIA' , 'CD_CONTA' ,'DS_CONTA' , 'PRI_TRI_2010']]\n",
        "################################################################################\n",
        "################################################################################\n",
        "################################################################################\n",
        "# seg_tri_2010\n",
        "# escolhe apenas a data\n",
        "seg_tri_2010 = dfp_base[(dfp_base[dfp_base.columns[3]] >= '2010-04-01') & (dfp_base.DT_FIM_EXERC <= '2010-06-30')]\n",
        "\n",
        "# renomeia a coluna VL_CONTA para o ano  base\n",
        "seg_tri_2010 = seg_tri_2010.rename({'VL_CONTA': 'SEG_TRI_2010'}, axis=1)\n",
        "\n",
        "# escolhe apenas as coluna selecionadas\n",
        "seg_tri_2010 = seg_tri_2010[['DENOM_CIA' , 'CD_CVM' , 'CNPJ_CIA' , 'CD_CONTA' ,'DS_CONTA' , 'SEG_TRI_2010']]\n",
        "################################################################################\n",
        "################################################################################\n",
        "################################################################################\n",
        "# ter_tri_2010\n",
        "# escolhe apenas a data\n",
        "ter_tri_2010 = dfp_base[(dfp_base[dfp_base.columns[3]] >= '2010-07-01') & (dfp_base.DT_FIM_EXERC <= '2010-09-30')]\n",
        "\n",
        "# renomeia a coluna VL_CONTA para o ano  base\n",
        "ter_tri_2010 = ter_tri_2010.rename({'VL_CONTA': 'TER_TRI_2010'}, axis=1)\n",
        "\n",
        "# escolhe apenas as coluna selecionadas\n",
        "ter_tri_2010 = ter_tri_2010[['DENOM_CIA' , 'CD_CVM' , 'CNPJ_CIA' , 'CD_CONTA' ,'DS_CONTA' , 'TER_TRI_2010']]"
      ],
      "execution_count": 60,
      "outputs": []
    },
    {
      "cell_type": "code",
      "metadata": {
        "id": "B9DU4mkceXmy"
      },
      "source": [
        ""
      ],
      "execution_count": 61,
      "outputs": []
    }
  ]
}